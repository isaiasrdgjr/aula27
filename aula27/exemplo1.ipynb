{
 "cells": [
  {
   "cell_type": "code",
   "execution_count": 1,
   "metadata": {},
   "outputs": [
    {
     "name": "stdout",
     "output_type": "stream",
     "text": [
      "   cisp  mes   ano  mes_ano  aisp  risp           munic    mcirc   regiao  \\\n",
      "0     1    1  2003  2003m01     5     1  Rio de Janeiro  3304557  Capital   \n",
      "1     4    1  2003  2003m01     5     1  Rio de Janeiro  3304557  Capital   \n",
      "2     5    1  2003  2003m01     5     1  Rio de Janeiro  3304557  Capital   \n",
      "3     6    1  2003  2003m01     1     1  Rio de Janeiro  3304557  Capital   \n",
      "4     7    1  2003  2003m01     1     1  Rio de Janeiro  3304557  Capital   \n",
      "\n",
      "   hom_doloso  ...  cmp  cmba  ameaca  pessoas_desaparecidas  \\\n",
      "0           0  ...  NaN   NaN      21                      2   \n",
      "1           3  ...  NaN   NaN      15                      6   \n",
      "2           3  ...  NaN   NaN      47                      2   \n",
      "3           6  ...  NaN   NaN      26                      2   \n",
      "4           4  ...  NaN   NaN      10                      1   \n",
      "\n",
      "   encontro_cadaver  encontro_ossada  pol_militares_mortos_serv  \\\n",
      "0                 0                0                          0   \n",
      "1                 0                1                          0   \n",
      "2                 1                0                          0   \n",
      "3                 1                0                          0   \n",
      "4                 3                0                          0   \n",
      "\n",
      "   pol_civis_mortos_serv  registro_ocorrencias  fase  \n",
      "0                      0                   578     3  \n",
      "1                      0                   441     3  \n",
      "2                      0                   637     3  \n",
      "3                      0                   473     3  \n",
      "4                      0                   147     3  \n",
      "\n",
      "[5 rows x 63 columns]\n"
     ]
    }
   ],
   "source": [
    "# Importar as bibliotecas\n",
    "import pandas as pd \n",
    "import numpy as np\n",
    "\n",
    "ENDERECO_DADOS = 'https://www.ispdados.rj.gov.br/Arquivos/BaseDPEvolucaoMensalCisp.csv'\n",
    "\n",
    "# Obtendo dados\n",
    "try:\n",
    "    df_roubos = pd.read_csv(ENDERECO_DADOS, sep=';', encoding='iso-8859-1')\n",
    "    print(df_roubos['munic'].unique())  # testar as impressões\n",
    "    # print(df_roubos['regiao'].unique())  # testar as impressões\n",
    "    print(df_roubos.head())\n",
    "except Exception as e:\n",
    "    print(\"Erro ao obter dados do ISP: \", e)\n",
    "\n",
    "\n"
   ]
  },
  {
   "cell_type": "code",
   "execution_count": null,
   "metadata": {},
   "outputs": [],
   "source": []
  }
 ],
 "metadata": {
  "kernelspec": {
   "display_name": "Python 3",
   "language": "python",
   "name": "python3"
  },
  "language_info": {
   "codemirror_mode": {
    "name": "ipython",
    "version": 3
   },
   "file_extension": ".py",
   "mimetype": "text/x-python",
   "name": "python",
   "nbconvert_exporter": "python",
   "pygments_lexer": "ipython3",
   "version": "3.11.4"
  },
  "orig_nbformat": 4
 },
 "nbformat": 4,
 "nbformat_minor": 2
}
